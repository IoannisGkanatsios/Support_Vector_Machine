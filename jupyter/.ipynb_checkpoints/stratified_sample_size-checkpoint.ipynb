{
 "cells": [
  {
   "cell_type": "code",
   "execution_count": null,
   "metadata": {},
   "outputs": [],
   "source": [
    "# bounds\n",
    "# 4792800,4813570,4339800,4357600"
   ]
  },
  {
   "cell_type": "code",
   "execution_count": 1,
   "metadata": {},
   "outputs": [],
   "source": [
    "from pathlib import Path\n",
    "import numpy as np\n",
    "import rasterio\n",
    "import pandas as pd\n",
    "import geopandas as gpd"
   ]
  },
  {
   "cell_type": "code",
   "execution_count": 2,
   "metadata": {},
   "outputs": [],
   "source": [
    "DATA_PATH = Path('/home/io/Documents/MOSUL')"
   ]
  },
  {
   "cell_type": "code",
   "execution_count": 3,
   "metadata": {},
   "outputs": [],
   "source": [
    "classified_path = DATA_PATH.joinpath('outputs','multi_class','mosul_clasified_2015.tif')\n",
    "stratified_raster_path = DATA_PATH.joinpath('inputs','stratified_sample')\n",
    "stratified_points_path = DATA_PATH.joinpath('inputs','stratified_sample','stratified_points','stratified_sample_2015.shp')"
   ]
  },
  {
   "cell_type": "code",
   "execution_count": 4,
   "metadata": {},
   "outputs": [],
   "source": [
    "with rasterio.open(classified_path) as src:\n",
    "    raster = src.read()"
   ]
  },
  {
   "cell_type": "code",
   "execution_count": 5,
   "metadata": {},
   "outputs": [],
   "source": [
    "size = raster.shape[1] * raster.shape[2]\n",
    "\n",
    "builtup = np.count_nonzero(raster==1)\n",
    "river = np.count_nonzero(raster==2)\n",
    "bare = np.count_nonzero(raster==3)\n",
    "crops = np.count_nonzero(raster==4)"
   ]
  },
  {
   "cell_type": "markdown",
   "metadata": {},
   "source": [
    "### Derive the size proportion for each class"
   ]
  },
  {
   "cell_type": "code",
   "execution_count": 6,
   "metadata": {},
   "outputs": [],
   "source": [
    "builtup_prop =  builtup/size\n",
    "river_prop = river/size\n",
    "crops_prop = crops/size\n",
    "bare_prop = bare/size"
   ]
  },
  {
   "cell_type": "code",
   "execution_count": 7,
   "metadata": {},
   "outputs": [
    {
     "name": "stdout",
     "output_type": "stream",
     "text": [
      "built-up proportion:0.4464268502581756\n",
      "river proportion:0.0211118760757315\n",
      "agriculture proportion:0.2866884681583477\n",
      "bare groundproportion:0.24577280550774527\n"
     ]
    }
   ],
   "source": [
    "print (f\"built-up proportion:{builtup_prop}\")\n",
    "print (f\"river proportion:{river_prop}\")\n",
    "print (f\"agriculture proportion:{crops_prop}\")\n",
    "print (f\"bare groundproportion:{bare_prop}\")"
   ]
  },
  {
   "cell_type": "markdown",
   "metadata": {},
   "source": [
    "### Standard deviation"
   ]
  },
  {
   "cell_type": "code",
   "execution_count": 8,
   "metadata": {},
   "outputs": [
    {
     "name": "stdout",
     "output_type": "stream",
     "text": [
      "/home/io/Documents/MOSUL/inputs/stratified_sample/crops.tif\n",
      "/home/io/Documents/MOSUL/inputs/stratified_sample/urban.tif\n",
      "/home/io/Documents/MOSUL/inputs/stratified_sample/river.tif\n",
      "/home/io/Documents/MOSUL/inputs/stratified_sample/bare_ground.tif\n"
     ]
    }
   ],
   "source": [
    "all_data = []\n",
    "for data in stratified_raster_path.glob('*.tif'):\n",
    "    print(data)\n",
    "    with rasterio.open(data) as src:\n",
    "        landcover = src.read()\n",
    "        all_data.append(landcover)"
   ]
  },
  {
   "cell_type": "code",
   "execution_count": 9,
   "metadata": {},
   "outputs": [],
   "source": [
    "builtup_stats = all_data[1]\n",
    "river_stats = all_data[2]\n",
    "agriculture_stats = all_data[0]\n",
    "bare_stats = all_data[3]"
   ]
  },
  {
   "cell_type": "code",
   "execution_count": 10,
   "metadata": {},
   "outputs": [
    {
     "name": "stdout",
     "output_type": "stream",
     "text": [
      "builtup std: 0.3199999928474426\n",
      "river std: 0.28999999165534973\n",
      "agriculture std: 0.18000000715255737\n",
      "bareground std: 0.28999999165534973\n"
     ]
    }
   ],
   "source": [
    "print (f\"builtup std: {round(np.std(builtup_stats), 2)}\")\n",
    "print (f\"river std: {round(np.std(river_stats), 2)}\")\n",
    "print (f\"agriculture std: {round(np.std(agriculture_stats), 2)}\")\n",
    "print (f\"bareground std: {round(np.std(bare_stats), 2)}\")"
   ]
  },
  {
   "cell_type": "markdown",
   "metadata": {},
   "source": [
    "### Calculate sample size"
   ]
  },
  {
   "cell_type": "code",
   "execution_count": 11,
   "metadata": {},
   "outputs": [],
   "source": [
    "builtup_std = np.std(builtup_stats)\n",
    "river_std = np.std(river_stats)\n",
    "agriculture_std = np.std(agriculture_stats)\n",
    "bare_std = np.std(bare_stats)"
   ]
  },
  {
   "cell_type": "code",
   "execution_count": 12,
   "metadata": {},
   "outputs": [],
   "source": [
    "w = np.sum([builtup_prop,river_prop,bare_prop,crops_prop])\n",
    "s = np.sum([builtup_std,river_std,agriculture_std,bare_std])"
   ]
  },
  {
   "cell_type": "code",
   "execution_count": 23,
   "metadata": {},
   "outputs": [],
   "source": [
    "numerator = w*s\n",
    "denominator = 0.03\n",
    "\n",
    "sample_size = (numerator / denominator)**2"
   ]
  },
  {
   "cell_type": "code",
   "execution_count": 24,
   "metadata": {},
   "outputs": [
    {
     "data": {
      "text/plain": [
       "1284.2437623031503"
      ]
     },
     "execution_count": 24,
     "metadata": {},
     "output_type": "execute_result"
    }
   ],
   "source": [
    "sample_size"
   ]
  },
  {
   "cell_type": "markdown",
   "metadata": {},
   "source": [
    "### Stratified sample size"
   ]
  },
  {
   "cell_type": "code",
   "execution_count": 4,
   "metadata": {},
   "outputs": [],
   "source": [
    "gdf = gpd.read_file(stratified_points_path)"
   ]
  },
  {
   "cell_type": "code",
   "execution_count": 5,
   "metadata": {},
   "outputs": [
    {
     "name": "stdout",
     "output_type": "stream",
     "text": [
      "builtup: mosul_clas    856\n",
      "geometry      856\n",
      "dtype: int64\n",
      "river: mosul_clas    44\n",
      "geometry      44\n",
      "dtype: int64\n",
      "agriculture: mosul_clas    366\n",
      "geometry      366\n",
      "dtype: int64\n",
      "bareground: mosul_clas    523\n",
      "geometry      523\n",
      "dtype: int64\n"
     ]
    }
   ],
   "source": [
    "print(f\"builtup: {gdf.loc[gdf['mosul_clas']==1].count()}\") \n",
    "print(f\"river: {gdf.loc[gdf['mosul_clas']==2].count()}\") \n",
    "print(f\"agriculture: {gdf.loc[gdf['mosul_clas']==3].count()}\") \n",
    "print(f\"bareground: {gdf.loc[gdf['mosul_clas']==4].count()}\") "
   ]
  },
  {
   "cell_type": "markdown",
   "metadata": {},
   "source": [
    "### TEST -  Assign values to the dataframe"
   ]
  },
  {
   "cell_type": "code",
   "execution_count": 10,
   "metadata": {},
   "outputs": [],
   "source": [
    "points_path = DATA_PATH.joinpath('inputs','stratified_sample','stratified_points','classes')"
   ]
  },
  {
   "cell_type": "code",
   "execution_count": null,
   "metadata": {},
   "outputs": [],
   "source": [
    "sample_points = []\n",
    "for p in points_path.glob('*.shp'):\n",
    "    print (p)\n",
    "    gdf = gpd.read_file(p)\n",
    "    sample_points.append(gdf)"
   ]
  },
  {
   "cell_type": "code",
   "execution_count": null,
   "metadata": {},
   "outputs": [],
   "source": [
    "df_urban = sample_points[0]\n",
    "df_urban['reference'] = 1\n",
    "\n",
    "df_bare = sample_points[1]\n",
    "df_bare['reference'] = 2\n",
    "\n",
    "df_river = sample_points[2]\n",
    "df_river['reference'] = 3\n",
    "\n",
    "df_crops = sample_points[3]\n",
    "df_crops['reference'] = 4"
   ]
  },
  {
   "cell_type": "code",
   "execution_count": null,
   "metadata": {},
   "outputs": [],
   "source": [
    "reference_points = pd.concat([df_urban,df_bare,df_river,df_crops])"
   ]
  },
  {
   "cell_type": "code",
   "execution_count": null,
   "metadata": {},
   "outputs": [],
   "source": []
  },
  {
   "cell_type": "code",
   "execution_count": null,
   "metadata": {},
   "outputs": [],
   "source": []
  }
 ],
 "metadata": {
  "kernelspec": {
   "display_name": "Python 3",
   "language": "python",
   "name": "python3"
  },
  "language_info": {
   "codemirror_mode": {
    "name": "ipython",
    "version": 3
   },
   "file_extension": ".py",
   "mimetype": "text/x-python",
   "name": "python",
   "nbconvert_exporter": "python",
   "pygments_lexer": "ipython3",
   "version": "3.6.12"
  }
 },
 "nbformat": 4,
 "nbformat_minor": 4
}
