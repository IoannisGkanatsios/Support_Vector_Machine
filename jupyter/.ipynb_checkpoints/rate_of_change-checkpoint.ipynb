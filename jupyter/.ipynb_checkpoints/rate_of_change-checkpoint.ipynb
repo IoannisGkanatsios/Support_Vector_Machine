{
 "cells": [
  {
   "cell_type": "code",
   "execution_count": 1,
   "metadata": {},
   "outputs": [
    {
     "name": "stderr",
     "output_type": "stream",
     "text": [
      "/home/io/.local/share/virtualenvs/iso_plus-YbreUBz8/lib/python3.6/site-packages/geopandas/_compat.py:88: UserWarning: The Shapely GEOS version (3.8.0-CAPI-1.13.1 ) is incompatible with the GEOS version PyGEOS was compiled with (3.8.1-CAPI-1.13.3). Conversions between both will be slow.\n",
      "  shapely_geos_version, geos_capi_version_string\n"
     ]
    }
   ],
   "source": [
    "from pathlib import Path\n",
    "import os\n",
    "import numpy as np\n",
    "import rasterio\n",
    "from rasterio.warp import reproject, Resampling\n",
    "import pandas as pd\n",
    "import geopandas as gpd"
   ]
  },
  {
   "cell_type": "code",
   "execution_count": 2,
   "metadata": {},
   "outputs": [],
   "source": [
    "DATA_PATH = Path('/home/io/Documents/MOSUL')"
   ]
  },
  {
   "cell_type": "code",
   "execution_count": 3,
   "metadata": {},
   "outputs": [],
   "source": [
    "rasters_path = DATA_PATH.joinpath('outputs','multi_class')"
   ]
  },
  {
   "cell_type": "code",
   "execution_count": 4,
   "metadata": {},
   "outputs": [],
   "source": [
    "def raster_align(reference,\n",
    "                 to_be_resampled,\n",
    "                 src_transform,\n",
    "                 src_crs,\n",
    "                 dst_transform,\n",
    "                 dst_crs):\n",
    "    \n",
    "    raster_resampled = np.ndarray((reference.shape))\n",
    "    reproject(\n",
    "        source= to_be_resampled,\n",
    "        destination= raster_resampled,\n",
    "        src_transform= src_transform,\n",
    "        src_crs= src_crs,\n",
    "        src_nodata= 0,\n",
    "        dst_transform= dst_transform,\n",
    "        dst_crs= dst_crs,\n",
    "        dst_nodata= 0,\n",
    "        resampling= Resampling.nearest)\n",
    "    \n",
    "    return raster_resampled"
   ]
  },
  {
   "cell_type": "code",
   "execution_count": 5,
   "metadata": {},
   "outputs": [
    {
     "name": "stdout",
     "output_type": "stream",
     "text": [
      "mosul_clasified_2015\n",
      "(500, 581)\n",
      "mosul_clasified_2016\n",
      "(500, 581)\n",
      "mosul_clasified_2017\n",
      "(500, 580)\n",
      "mosul_clasified_2018\n",
      "(500, 581)\n",
      "mosul_clasified_2019\n",
      "(500, 581)\n"
     ]
    }
   ],
   "source": [
    "rasters = {}\n",
    "for raster in sorted(rasters_path.glob('*.tif')):\n",
    "    raster_full_name = os.path.split(raster)[1]\n",
    "    raster_name = raster_full_name.split('.')[0]\n",
    "    print (raster_name)\n",
    "    with rasterio.open(raster) as src:\n",
    "        band = src.read(1)\n",
    "        profile = src.profile\n",
    "        transform = src.transform\n",
    "        crs = src.crs\n",
    "        print (src.shape)\n",
    "        rasters[raster_name] = {'band': band,\n",
    "                                'transform': transform,\n",
    "                                'crs': crs,\n",
    "                                'profile': profile\n",
    "                               }"
   ]
  },
  {
   "cell_type": "code",
   "execution_count": 6,
   "metadata": {},
   "outputs": [],
   "source": [
    "rasters_aligned = {}\n",
    "\n",
    "for name, v in rasters.items():\n",
    "    if name == 'mosul_clasified_2015':\n",
    "        rasters_aligned[name] = {'band': v['band'],\n",
    "                                'transform': v['transform'],\n",
    "                                'crs': v['crs'],\n",
    "                                'profile': v['profile']\n",
    "                                }\n",
    "    else:\n",
    "        band_aligned = raster_align(rasters['mosul_clasified_2015']['band'],\n",
    "                                     v['band'],\n",
    "                                     v['transform'],\n",
    "                                     v['crs'],\n",
    "                                     rasters['mosul_clasified_2015']['transform'],\n",
    "                                     rasters['mosul_clasified_2015']['crs'])\n",
    "        rasters_aligned[name] = {'band': band_aligned}\n"
   ]
  },
  {
   "cell_type": "code",
   "execution_count": 12,
   "metadata": {},
   "outputs": [],
   "source": [
    "mosul_2015 = rasters_aligned['mosul_clasified_2015']['band']\n",
    "mosul_2016 = rasters_aligned['mosul_clasified_2016']['band']\n",
    "mosul_2017 = rasters_aligned['mosul_clasified_2017']['band']\n",
    "mosul_2018 = rasters_aligned['mosul_clasified_2018']['band']\n",
    "mosul_2019 = rasters_aligned['mosul_clasified_2019']['band']"
   ]
  },
  {
   "cell_type": "markdown",
   "metadata": {},
   "source": [
    "### rate of change of each landcover class"
   ]
  },
  {
   "cell_type": "code",
   "execution_count": 26,
   "metadata": {},
   "outputs": [],
   "source": [
    "areaUrban_2015 = (np.count_nonzero(mosul_2015 == 1) * 30) / 1000\n",
    "areaRiver_2015 = (np.count_nonzero(mosul_2015 == 2) * 30) / 1000\n",
    "areaBare_2015 = (np.count_nonzero(mosul_2015 == 3) * 30) / 1000\n",
    "areaCrops_2015 = (np.count_nonzero(mosul_2015 == 4) * 30) / 1000"
   ]
  },
  {
   "cell_type": "code",
   "execution_count": 30,
   "metadata": {},
   "outputs": [],
   "source": [
    "areaUrban_2016 = (np.count_nonzero(mosul_2016 == 1) * 30) / 1000\n",
    "areaRiver_2016 = (np.count_nonzero(mosul_2016 == 2) * 30) / 1000\n",
    "areaBare_2016 = (np.count_nonzero(mosul_2016 == 3) * 30) / 1000\n",
    "areaCrops_2016 = (np.count_nonzero(mosul_2016 == 4) * 30) / 1000"
   ]
  },
  {
   "cell_type": "code",
   "execution_count": 34,
   "metadata": {},
   "outputs": [],
   "source": [
    "areaUrban_2017 = (np.count_nonzero(mosul_2017 == 1) * 30) / 1000\n",
    "areaRiver_2017 = (np.count_nonzero(mosul_2017 == 2) * 30) / 1000\n",
    "areaBare_2017 = (np.count_nonzero(mosul_2017 == 3) * 30) / 1000\n",
    "areaCrops_2017 = (np.count_nonzero(mosul_2017 == 4) * 30) / 1000"
   ]
  },
  {
   "cell_type": "code",
   "execution_count": 35,
   "metadata": {},
   "outputs": [],
   "source": [
    "areaUrban_2018 = (np.count_nonzero(mosul_2018 == 1) * 30) / 1000\n",
    "areaRiver_2018 = (np.count_nonzero(mosul_2018 == 2) * 30) / 1000\n",
    "areaBare_2018 = (np.count_nonzero(mosul_2018 == 3) * 30) / 1000\n",
    "areaCrops_2018 = (np.count_nonzero(mosul_2018 == 4) * 30) / 1000"
   ]
  },
  {
   "cell_type": "code",
   "execution_count": 36,
   "metadata": {},
   "outputs": [],
   "source": [
    "areaUrban_2019 = (np.count_nonzero(mosul_2019 == 1) * 30) / 1000\n",
    "areaRiver_2019 = (np.count_nonzero(mosul_2019 == 2) * 30) / 1000\n",
    "areaBare_2019 = (np.count_nonzero(mosul_2019 == 3) * 30) / 1000\n",
    "areaCrops_2019 = (np.count_nonzero(mosul_2019 == 4) * 30) / 1000"
   ]
  },
  {
   "cell_type": "markdown",
   "metadata": {},
   "source": [
    "### Urban rate of change"
   ]
  },
  {
   "cell_type": "code",
   "execution_count": 47,
   "metadata": {},
   "outputs": [],
   "source": [
    "first_1615 = 1 / (2016 - 2015)\n",
    "second_1615 = np.log(areaUrban_2016 / areaUrban_2015)\n",
    "r_1615 = first_1615 * second_1615\n",
    "\n",
    "first_1716 = 1 / (2017 - 2016)\n",
    "second_1716 = np.log(areaUrban_2017 / areaUrban_2016)\n",
    "r_1716 = first_1716 * second_1716\n",
    "\n",
    "first_1817 = 1 / (2018 - 2017)\n",
    "second_1817 = np.log(areaUrban_2018 / areaUrban_2017)\n",
    "r_1817 = first_1817 * second_1817\n",
    "\n",
    "first_1918 = 1 / (2019 - 2018)\n",
    "second_1918 = np.log(areaUrban_2019 / areaUrban_2018)\n",
    "r_1918 = first_1918 * second_1918"
   ]
  },
  {
   "cell_type": "code",
   "execution_count": 56,
   "metadata": {},
   "outputs": [],
   "source": [
    "first_1915 = 1 / (2019 - 2015)\n",
    "second_1915 = np.log(areaUrban_2019 / areaUrban_2015)\n",
    "r_1915 = first_1915 * second_1915"
   ]
  },
  {
   "cell_type": "code",
   "execution_count": 57,
   "metadata": {},
   "outputs": [
    {
     "data": {
      "text/plain": [
       "0.006167181851378433"
      ]
     },
     "execution_count": 57,
     "metadata": {},
     "output_type": "execute_result"
    }
   ],
   "source": [
    "r_1915"
   ]
  },
  {
   "cell_type": "code",
   "execution_count": 52,
   "metadata": {},
   "outputs": [
    {
     "data": {
      "text/plain": [
       "3936.72"
      ]
     },
     "execution_count": 52,
     "metadata": {},
     "output_type": "execute_result"
    }
   ],
   "source": [
    "areaUrban_2016"
   ]
  },
  {
   "cell_type": "code",
   "execution_count": 53,
   "metadata": {},
   "outputs": [
    {
     "data": {
      "text/plain": [
       "4041.18"
      ]
     },
     "execution_count": 53,
     "metadata": {},
     "output_type": "execute_result"
    }
   ],
   "source": [
    "areaUrban_2017"
   ]
  },
  {
   "cell_type": "code",
   "execution_count": 54,
   "metadata": {},
   "outputs": [
    {
     "data": {
      "text/plain": [
       "3873.45"
      ]
     },
     "execution_count": 54,
     "metadata": {},
     "output_type": "execute_result"
    }
   ],
   "source": [
    "areaUrban_2018"
   ]
  },
  {
   "cell_type": "code",
   "execution_count": 55,
   "metadata": {},
   "outputs": [
    {
     "data": {
      "text/plain": [
       "3987.78"
      ]
     },
     "execution_count": 55,
     "metadata": {},
     "output_type": "execute_result"
    }
   ],
   "source": [
    "areaUrban_2019"
   ]
  },
  {
   "cell_type": "code",
   "execution_count": 48,
   "metadata": {},
   "outputs": [
    {
     "data": {
      "text/plain": [
       "0.011781931614285958"
      ]
     },
     "execution_count": 48,
     "metadata": {},
     "output_type": "execute_result"
    }
   ],
   "source": [
    "r_1615"
   ]
  },
  {
   "cell_type": "code",
   "execution_count": 49,
   "metadata": {},
   "outputs": [
    {
     "data": {
      "text/plain": [
       "0.026188839243948683"
      ]
     },
     "execution_count": 49,
     "metadata": {},
     "output_type": "execute_result"
    }
   ],
   "source": [
    "r_1716"
   ]
  },
  {
   "cell_type": "code",
   "execution_count": 50,
   "metadata": {},
   "outputs": [
    {
     "data": {
      "text/plain": [
       "-0.042391145750181033"
      ]
     },
     "execution_count": 50,
     "metadata": {},
     "output_type": "execute_result"
    }
   ],
   "source": [
    "r_1817"
   ]
  },
  {
   "cell_type": "code",
   "execution_count": 51,
   "metadata": {},
   "outputs": [
    {
     "data": {
      "text/plain": [
       "0.029089102297460055"
      ]
     },
     "execution_count": 51,
     "metadata": {},
     "output_type": "execute_result"
    }
   ],
   "source": [
    "r_1918"
   ]
  },
  {
   "cell_type": "code",
   "execution_count": null,
   "metadata": {},
   "outputs": [],
   "source": []
  }
 ],
 "metadata": {
  "kernelspec": {
   "display_name": "Python 3",
   "language": "python",
   "name": "python3"
  },
  "language_info": {
   "codemirror_mode": {
    "name": "ipython",
    "version": 3
   },
   "file_extension": ".py",
   "mimetype": "text/x-python",
   "name": "python",
   "nbconvert_exporter": "python",
   "pygments_lexer": "ipython3",
   "version": "3.6.12"
  }
 },
 "nbformat": 4,
 "nbformat_minor": 5
}
